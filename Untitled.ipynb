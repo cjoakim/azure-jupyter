{
 "cells": [
  {
   "cell_type": "code",
   "execution_count": null,
   "id": "ae7c2039",
   "metadata": {},
   "outputs": [],
   "source": [
    "# Generate CI Data with the Python Faker library"
   ]
  },
  {
   "cell_type": "code",
   "execution_count": 1,
   "id": "d6d28ec3",
   "metadata": {},
   "outputs": [],
   "source": [
    "from faker import Faker\n",
    "fake = Faker()\n"
   ]
  },
  {
   "cell_type": "code",
   "execution_count": null,
   "id": "2b6e67b4",
   "metadata": {},
   "outputs": [],
   "source": [
    "# These are the CSV Rows:\n",
    "\n",
    "# \"CustomerId\",\n",
    "# \"Address\",\n",
    "# \"State\",\n",
    "# \"StateProvince\",\n",
    "# \"PreferredStore\",\n",
    "# \"RewardsPoints\",\n",
    "# \"StreetAddress\",\n",
    "# \"NameCombined\",\n",
    "# \"CountryCombined\",\n",
    "# \"CityCombined\",\n",
    "# \"PostalCodeCombined\",\n",
    "# \"RetailDemoData_RetailSystem_RetailCustomer_CustomerRetailID\",\n",
    "# \"RetailDemoData_RetailSystem_RetailCustomer_CustomerRetailID_Alternate\",\n",
    "# \"RetailDemoData_SurveySystem_SurveyContact_SurveyContactID\",\n",
    "# \"RetailDemoData_SurveySystem_SurveyContact_SurveyContactID_Alternate\"\n",
    "\n",
    "\n"
   ]
  }
 ],
 "metadata": {
  "kernelspec": {
   "display_name": "Python 3",
   "language": "python",
   "name": "python3"
  },
  "language_info": {
   "codemirror_mode": {
    "name": "ipython",
    "version": 3
   },
   "file_extension": ".py",
   "mimetype": "text/x-python",
   "name": "python",
   "nbconvert_exporter": "python",
   "pygments_lexer": "ipython3",
   "version": "3.9.9"
  }
 },
 "nbformat": 4,
 "nbformat_minor": 5
}
