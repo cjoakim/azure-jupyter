{
 "cells": [
  {
   "cell_type": "markdown",
   "metadata": {},
   "source": [
    "### CosmosDB/Gremlin with gremlinpython library\n",
    "\n",
    "See https://docs.microsoft.com/en-us/azure/cosmos-db/graph/create-graph-python"
   ]
  },
  {
   "cell_type": "code",
   "execution_count": 1,
   "metadata": {},
   "outputs": [],
   "source": [
    "import nest_asyncio\n",
    "\n",
    "nest_asyncio.apply()"
   ]
  },
  {
   "cell_type": "code",
   "execution_count": null,
   "metadata": {},
   "outputs": [],
   "source": [
    "import os\n",
    "import sys\n",
    "import traceback\n",
    "\n",
    "from gremlin_python.driver import client, serializer, protocol\n",
    "from gremlin_python.driver.protocol import GremlinServerError\n",
    "\n",
    "acct   = os.environ['AZURE_COSMOSDB_GRAPHDB_ACCT']\n",
    "key    = os.environ['AZURE_COSMOSDB_GRAPHDB_KEY']\n",
    "dbname = os.environ['AZURE_COSMOSDB_GRAPHDB_DBNAME']\n",
    "graph  = os.environ['AZURE_COSMOSDB_GRAPHDB_GRAPH']\n",
    "\n",
    "dbname = 'december'\n",
    "graph  = 'rdf1'\n",
    "url    = 'wss://{}.gremlin.cosmosdb.azure.com:443/'.format(acct)\n",
    "username = 'dbs/{}/colls/{}'.format(dbname, graph)\n",
    "\n",
    "print('acct: {}'.format(acct))\n",
    "#print('key:  {}'.format(key))\n",
    "print('url:  {}'.format(url))\n",
    "print('username: {}'.format(username))\n",
    "\n",
    "client = client.Client(url, 'g', username=username, password=key,\n",
    "    message_serializer=serializer.GraphSONSerializersV2d0())\n",
    "\n",
    "query = 'g.V().count()'\n",
    "callback = client.submitAsync(query)\n",
    "if callback.result() is not None:\n",
    "    print(\"count: {0}\".format(callback.result().all().result()))\n",
    "else:\n",
    "    print(\"unable to execute query: {0}\".format(query))\n",
    "\n"
   ]
  },
  {
   "cell_type": "markdown",
   "metadata": {},
   "source": [
    "## Error \n",
    "\n",
    "```\n",
    "GremlinServerError: 499: ActivityId: b2b00fbd-956d-42a9-b1b6-47082cad474c\n",
    "Expecting user provided by Gremlin client (SASL Authentication) to match /dbs/<Database>/colls/<Collection> format.\n",
    "```"
   ]
  }
 ],
 "metadata": {
  "interpreter": {
   "hash": "d717815e77279d4be02d938fc55015f2a52b4c07e54144d3f578496931c7e281"
  },
  "kernelspec": {
   "display_name": "Python 3.9.9 64-bit ('venv': venv)",
   "language": "python",
   "name": "python3"
  },
  "language_info": {
   "codemirror_mode": {
    "name": "ipython",
    "version": 3
   },
   "file_extension": ".py",
   "mimetype": "text/x-python",
   "name": "python",
   "nbconvert_exporter": "python",
   "pygments_lexer": "ipython3",
   "version": "3.9.9"
  },
  "orig_nbformat": 4
 },
 "nbformat": 4,
 "nbformat_minor": 2
}
