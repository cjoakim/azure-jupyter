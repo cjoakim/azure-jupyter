{
 "cells": [
  {
   "cell_type": "markdown",
   "metadata": {},
   "source": [
    "## CosmosDB/Gremlin Client with gremlinpython library\n",
    "\n",
    "- https://docs.microsoft.com/en-us/azure/cosmos-db/graph/create-graph-python\n",
    "- https://pypi.org/project/gremlinpython/"
   ]
  },
  {
   "cell_type": "markdown",
   "metadata": {},
   "source": [
    "### Enable just a single Python Async Event Loop with nest_asyncio"
   ]
  },
  {
   "cell_type": "code",
   "execution_count": null,
   "metadata": {},
   "outputs": [],
   "source": [
    "import nest_asyncio\n",
    "nest_asyncio.apply()"
   ]
  },
  {
   "cell_type": "markdown",
   "metadata": {},
   "source": [
    "### Create Gremlin Client object from environment variable configuration values"
   ]
  },
  {
   "cell_type": "code",
   "execution_count": null,
   "metadata": {},
   "outputs": [],
   "source": [
    "import json\n",
    "import os\n",
    "import sys\n",
    "import traceback\n",
    "\n",
    "from gremlin_python.driver import client, serializer, protocol\n",
    "from gremlin_python.driver.protocol import GremlinServerError\n",
    "\n",
    "acct   = os.environ['AZURE_COSMOSDB_GRAPHDB_ACCT']\n",
    "key    = os.environ['AZURE_COSMOSDB_GRAPHDB_KEY']\n",
    "dbname = os.environ['AZURE_COSMOSDB_GRAPHDB_DBNAME']\n",
    "graph  = os.environ['AZURE_COSMOSDB_GRAPHDB_GRAPH']\n",
    "\n",
    "dbname = 'december'\n",
    "graph  = 'rdf1'\n",
    "url    = 'wss://{}.gremlin.cosmosdb.azure.com:443/'.format(acct)\n",
    "username = '/dbs/{}/colls/{}'.format(dbname, graph)\n",
    "\n",
    "print('account:    {}'.format(acct))\n",
    "print('key length: {}'.format(len(key)))\n",
    "print('url:        {}'.format(url))\n",
    "print('username:   {}'.format(username))\n",
    "\n",
    "client = client.Client(url, 'g', username=username, password=key, ssl=True,\n",
    "    message_serializer=serializer.GraphSONSerializersV2d0())\n"
   ]
  },
  {
   "cell_type": "markdown",
   "metadata": {},
   "source": [
    "### Count the Vertices and Edges in the CosmosDB/Gremlin Graph"
   ]
  },
  {
   "cell_type": "code",
   "execution_count": null,
   "metadata": {},
   "outputs": [],
   "source": [
    "query = 'g.V().count()'\n",
    "callback = client.submitAsync(query)\n",
    "if callback.result() is not None:\n",
    "    print(\"vertex count: {0}\".format(callback.result().all().result()))\n",
    "else:\n",
    "    print(\"unable to execute query: {0}\".format(query))\n",
    "\n",
    "query = 'g.E().count()'\n",
    "callback = client.submitAsync(query)\n",
    "if callback.result() is not None:\n",
    "    print(\"edge count: {0}\".format(callback.result().all().result()))\n",
    "else:\n",
    "    print(\"unable to execute query: {0}\".format(query))\n"
   ]
  },
  {
   "cell_type": "markdown",
   "metadata": {},
   "source": [
    "### Query a given Vertex"
   ]
  },
  {
   "cell_type": "code",
   "execution_count": null,
   "metadata": {},
   "outputs": [],
   "source": [
    "pk = \"z584e6bb0-2497-d97a-a0af-41f37462c9a9\"\n",
    "id = \"z584e6bb0-2497-d97a-a0af-41f37462c9a9\"\n",
    "query = 'g.V(\"{}\", \"{}\")'.format(pk, id)\n",
    "print('query: {}'.format(query))\n",
    "\n",
    "callback = client.submitAsync(query)\n",
    "if callback.result() is not None:\n",
    "    obj = callback.result().all().result()\n",
    "    pretty_json = json.dumps(obj, sort_keys=False, indent=2)\n",
    "    print(pretty_json)\n",
    "else:\n",
    "    print(\"unable to execute query: {0}\".format(query))"
   ]
  },
  {
   "cell_type": "code",
   "execution_count": null,
   "metadata": {},
   "outputs": [],
   "source": []
  }
 ],
 "metadata": {
  "interpreter": {
   "hash": "d717815e77279d4be02d938fc55015f2a52b4c07e54144d3f578496931c7e281"
  },
  "kernelspec": {
   "display_name": "Python 3",
   "language": "python",
   "name": "python3"
  },
  "language_info": {
   "codemirror_mode": {
    "name": "ipython",
    "version": 3
   },
   "file_extension": ".py",
   "mimetype": "text/x-python",
   "name": "python",
   "nbconvert_exporter": "python",
   "pygments_lexer": "ipython3",
   "version": "3.9.9"
  }
 },
 "nbformat": 4,
 "nbformat_minor": 2
}
